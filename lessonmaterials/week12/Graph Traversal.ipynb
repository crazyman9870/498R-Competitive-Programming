{
 "cells": [
  {
   "cell_type": "markdown",
   "metadata": {},
   "source": [
    "# Graph Traversal\n",
    "\n",
    "Our TreeNode class looks like the following\n",
    "\n",
    "```python\n",
    "class TreeNode(object):\n",
    "\n",
    "    def __init__(self, value):\n",
    "        self.value = value\n",
    "        self.left = None\n",
    "        self.right = None\n",
    "```"
   ]
  },
  {
   "cell_type": "code",
   "execution_count": 29,
   "metadata": {
    "collapsed": false
   },
   "outputs": [
    {
     "name": "stdout",
     "output_type": "stream",
     "text": [
      "\n",
      "    __0__    \n",
      "   /     \\   \n",
      "  6       3  \n",
      " / \\     / \\ \n",
      "1   4   5   2\n",
      "             \n"
     ]
    }
   ],
   "source": [
    "# pip install binarytree\n",
    "from binarytree import pprint, tree\n",
    "# Imports Node as TreeNode\n",
    "from binarytree import Node as TreeNode\n",
    "\n",
    "my_tree = tree(height=2, balanced=True)\n",
    "\n",
    "pprint(my_tree)"
   ]
  },
  {
   "cell_type": "markdown",
   "metadata": {},
   "source": [
    "Our (simple) GraphNode class:\n",
    "\n",
    "```python\n",
    "# A real Graph (Adjacency List) would look like this:\n",
    "class Graph():\n",
    "\n",
    "    class Node():\n",
    "    \n",
    "        def __init__(self, value):\n",
    "            self.value = value\n",
    "            self.adjacent = []\n",
    "\n",
    "    def __init__(self):\n",
    "        self.nodes = []\n",
    "```"
   ]
  },
  {
   "cell_type": "code",
   "execution_count": 45,
   "metadata": {
    "collapsed": false
   },
   "outputs": [],
   "source": [
    "class GraphNode:\n",
    "    \n",
    "    def __init__(self, value):\n",
    "        self.value = value\n",
    "        self.children = []\n",
    "\n",
    "# Build the graph from the image below\n",
    "a = GraphNode(\"A\")\n",
    "c = GraphNode(\"C\")\n",
    "b = GraphNode(\"B\")\n",
    "f = GraphNode(\"F\")\n",
    "d = GraphNode(\"D\")\n",
    "e = GraphNode(\"E\")\n",
    "\n",
    "graph = a\n",
    "graph.children.append(c)\n",
    "graph.children.append(b)\n",
    "graph.children[0].children.append(f)\n",
    "graph.children[1].children.append(d)\n",
    "graph.children[1].children.append(e)\n",
    "graph.children[1].children[1].children.append(f)"
   ]
  },
  {
   "cell_type": "markdown",
   "metadata": {},
   "source": [
    "![graph](http://eddmann.com/uploads/depth-first-search-and-breadth-first-search-in-python/graph.png)\n",
    "\n",
    "## Depth First Searching\n",
    "\n",
    "### Our Tree DFS Algorithm\n"
   ]
  },
  {
   "cell_type": "code",
   "execution_count": 50,
   "metadata": {
    "collapsed": false
   },
   "outputs": [
    {
     "name": "stdout",
     "output_type": "stream",
     "text": [
      "\n",
      "    __0__    \n",
      "   /     \\   \n",
      "  6       3  \n",
      " / \\     / \\ \n",
      "1   4   5   2\n",
      "             \n",
      "0\n",
      "6\n",
      "1\n",
      "4\n",
      "3\n",
      "5\n",
      "2\n"
     ]
    }
   ],
   "source": [
    "\n",
    "def dfs_tree(tree):\n",
    "    if tree is None:\n",
    "        return\n",
    "    stack = [tree]\n",
    "    while stack:\n",
    "        node = stack.pop()\n",
    "        print(node.value)\n",
    "        # append right first, so left will be popped first\n",
    "        if node.right:\n",
    "            stack.append(node.right)  \n",
    "        if node.left:\n",
    "            stack.append(node.left)\n",
    "\n",
    "pprint(my_tree)\n",
    "dfs_tree(my_tree)"
   ]
  },
  {
   "cell_type": "markdown",
   "metadata": {},
   "source": [
    "### DFS for a Graph\n"
   ]
  },
  {
   "cell_type": "code",
   "execution_count": 55,
   "metadata": {
    "collapsed": false
   },
   "outputs": [
    {
     "name": "stdout",
     "output_type": "stream",
     "text": [
      "A\n",
      "B\n",
      "E\n",
      "F\n",
      "D\n",
      "C\n"
     ]
    }
   ],
   "source": [
    "def dfs_graph(graph):\n",
    "    prev = []\n",
    "    if graph is None:\n",
    "        return\n",
    "    stack = [graph]\n",
    "    while stack:\n",
    "        node = stack.pop()\n",
    "        if node in prev:\n",
    "            continue\n",
    "        else:\n",
    "            prev.append(node)\n",
    "        print(node.value)\n",
    "        # append right first, so left will be popped first\n",
    "        if node.children:\n",
    "            stack = stack + node.children \n",
    "\n",
    "dfs_graph(graph)"
   ]
  },
  {
   "cell_type": "markdown",
   "metadata": {},
   "source": [
    "## Breadth First Searching (Level Order Traversal)\n",
    "\n",
    "### Our Tree BFS Algorithm\n"
   ]
  },
  {
   "cell_type": "code",
   "execution_count": 56,
   "metadata": {
    "collapsed": false
   },
   "outputs": [
    {
     "name": "stdout",
     "output_type": "stream",
     "text": [
      "\n",
      "    __0__    \n",
      "   /     \\   \n",
      "  6       3  \n",
      " / \\     / \\ \n",
      "1   4   5   2\n",
      "             \n",
      "A\n",
      "B\n",
      "C\n",
      "E\n",
      "D\n",
      "F\n"
     ]
    }
   ],
   "source": [
    "def bfs_tree(n):\n",
    "    q = []\n",
    "    q.append(n)\n",
    "    \n",
    "    while q:\n",
    "        node = q[0]\n",
    "        if node.left:\n",
    "            q.append(node.left)\n",
    "        if node.right:\n",
    "            q.append(node.right)\n",
    "        q = q[1:]\n",
    "        print(node.value)\n",
    "\n",
    "pprint(my_tree)\n",
    "bfs_tree(my_tree)"
   ]
  },
  {
   "cell_type": "markdown",
   "metadata": {},
   "source": [
    "### BFS for a Graph"
   ]
  },
  {
   "cell_type": "code",
   "execution_count": 58,
   "metadata": {
    "collapsed": false
   },
   "outputs": [
    {
     "name": "stdout",
     "output_type": "stream",
     "text": [
      "A\n",
      "B\n",
      "C\n",
      "E\n",
      "D\n",
      "F\n"
     ]
    }
   ],
   "source": [
    "def bfs_graph(n):\n",
    "    prev = []\n",
    "    if graph is None:\n",
    "        return\n",
    "    stack = [graph]\n",
    "    while stack:\n",
    "        node = stack.pop()\n",
    "        if node in prev:\n",
    "            continue\n",
    "        else:\n",
    "            prev.append(node)\n",
    "        print(node.value)\n",
    "        # append right first, so left will be popped first\n",
    "        if node.children:\n",
    "            stack = node.children + stack\n",
    "            \n",
    "bfs_graph(graph)"
   ]
  },
  {
   "cell_type": "markdown",
   "metadata": {},
   "source": []
  }
 ],
 "metadata": {
  "kernelspec": {
   "display_name": "Python 3",
   "language": "python",
   "name": "python3"
  },
  "language_info": {
   "codemirror_mode": {
    "name": "ipython",
    "version": 3
   },
   "file_extension": ".py",
   "mimetype": "text/x-python",
   "name": "python",
   "nbconvert_exporter": "python",
   "pygments_lexer": "ipython3",
   "version": "3.5.2"
  }
 },
 "nbformat": 4,
 "nbformat_minor": 1
}
