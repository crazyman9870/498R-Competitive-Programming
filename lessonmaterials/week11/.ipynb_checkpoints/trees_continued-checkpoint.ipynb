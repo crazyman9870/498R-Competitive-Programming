{
 "cells": [
  {
   "cell_type": "markdown",
   "metadata": {},
   "source": [
    "# [Binary Heap](https://www.youtube.com/watch?v=WCm3TqScBM8)\n",
    "\n",
    "## What is a perfectly Balanced Tree?\n",
    "\n",
    "Every node has 0 or 2 children and all the leaves are at the same level\n",
    "\n",
    "## What makes a tree complete?\n",
    "\n",
    "Every level of the tree is full and the last level is either full or filled as far left as possible\n",
    "\n",
    "## How do we access individual node values?\n",
    "\n",
    "Left Child: 2i + 1\n",
    "\n",
    "Right Child: 2i + 2\n",
    "\n",
    "Parent: (i-1)/2\n",
    "\n",
    "## Time Complexity\n",
    "\n",
    "### Find Max\n",
    "\n",
    "O(1)\n",
    "\n",
    "### Insertion\n",
    "\n",
    "Best: O(1)\n",
    "\n",
    "Worst: O(log n)\n",
    "\n",
    "### Deletion\n",
    "\n",
    "Best: O(1)\n",
    "\n",
    "Worst: O(log n)\n",
    "\n",
    "# Array to Binary Tree (Node class)\n",
    "\n",
    "The Node class looks like the following:\n",
    "```python\n",
    "class Node(object):\n",
    "\n",
    "    def __init__(self, value):\n",
    "        self.value = value\n",
    "        self.left = None\n",
    "        self.right = None\n",
    "```"
   ]
  },
  {
   "cell_type": "code",
   "execution_count": 26,
   "metadata": {
    "collapsed": false
   },
   "outputs": [
    {
     "name": "stdout",
     "output_type": "stream",
     "text": [
      "\n",
      "      __0__    \n",
      "     /     \\   \n",
      "    1       2  \n",
      "   / \\     / \\ \n",
      "  3   4   5   6\n",
      " /             \n",
      "7              \n",
      "               \n"
     ]
    }
   ],
   "source": [
    "# pip install binarytree\n",
    "from binarytree import pprint, Node, tree\n",
    "\n",
    "def buildTree(l, i=0):\n",
    "    if len(l) <= i:\n",
    "        return None\n",
    "    n = Node(l[i])\n",
    "    if i*2+1 < len(l):\n",
    "        n.left = buildTree(l, i*2+1)\n",
    "        if i*2+2 < len(l):\n",
    "            n.right = buildTree(l, i*2 + 2)\n",
    "    return n\n",
    "\n",
    "input_data = \"0 1 2 3 4 5 6 7\"\n",
    "data = input_data.split()\n",
    "\n",
    "n = buildTree(data)\n",
    "\n",
    "pprint(n)"
   ]
  },
  {
   "cell_type": "markdown",
   "metadata": {},
   "source": [
    "\n",
    "# Solutions to Last Week's Competition\n",
    "\n",
    "You may have to make a few changes to get these to work on hackerrank. Mostly just changing `n.value` to `n.data`.\n",
    "\n",
    "## [Pretty Print Binary Tree](https://www.hackerrank.com/contests/cs498r-week-10/challenges/pretty-print-binary-tree)\n",
    "\n",
    "- What is a Complete Binary Tree?\n",
    "    * Every level of the tree is full and the last level is either full or filled as far left as possible\n"
   ]
  },
  {
   "cell_type": "code",
   "execution_count": 27,
   "metadata": {
    "collapsed": false
   },
   "outputs": [
    {
     "name": "stdout",
     "output_type": "stream",
     "text": [
      "\t\t6\n",
      "\n",
      "\t2\n",
      "\n",
      "\t\t5\n",
      "\n",
      "0\n",
      "\n",
      "\t\t4\n",
      "\n",
      "\t1\n",
      "\n",
      "\t\t3\n",
      "\n",
      "\t\t\t7\n",
      "\n",
      "\n"
     ]
    }
   ],
   "source": [
    "def prettyprint(n, tabs=0):\n",
    "    if not n:\n",
    "        return ''\n",
    "    out = '\\t' * tabs + str(n.value) + '\\n\\n'\n",
    "    tabs += 1\n",
    "    if n.left:\n",
    "        out += prettyprint(n.left, tabs)\n",
    "        if n.right:\n",
    "            out = prettyprint(n.right, tabs) + out\n",
    "    return out\n",
    "\n",
    "print(prettyprint(n))"
   ]
  },
  {
   "cell_type": "markdown",
   "metadata": {},
   "source": [
    "# [Convert Binary Tree to Linked List](https://www.hackerrank.com/contests/cs498r-week-10/challenges/convert-binary-tree-to-linked-list)\n",
    "\n",
    "Do you see a pattern here?\n",
    "\n",
    "This is just pre-order traversal.\n",
    "\n",
    "# [Is Binary Search Tree](https://www.hackerrank.com/contests/cs498r-week-10/challenges/is-binary-search-tree)"
   ]
  },
  {
   "cell_type": "code",
   "execution_count": 28,
   "metadata": {
    "collapsed": false
   },
   "outputs": [
    {
     "data": {
      "text/plain": [
       "False"
      ]
     },
     "execution_count": 28,
     "metadata": {},
     "output_type": "execute_result"
    }
   ],
   "source": [
    "def check_binary_search_tree(root, l=0, u=10 ** 4):\n",
    "    if not root:\n",
    "        return True\n",
    "    if int(root.value) >= u or int(root.value) <= l:\n",
    "        return False\n",
    "    if not check_binary_search_tree_(root.left, l, root.value):\n",
    "        return False\n",
    "    if not check_binary_search_tree_(root.right, root.value, u):\n",
    "        return False\n",
    "    return True\n",
    "\n",
    "check_binary_search_tree(n)"
   ]
  },
  {
   "cell_type": "markdown",
   "metadata": {},
   "source": [
    "# [View of a Tree](https://www.hackerrank.com/contests/cs498r-week-10/challenges/view-of-a-tree)"
   ]
  },
  {
   "cell_type": "code",
   "execution_count": 29,
   "metadata": {
    "collapsed": false
   },
   "outputs": [
    {
     "name": "stdout",
     "output_type": "stream",
     "text": [
      "\n",
      "      __0__    \n",
      "     /     \\   \n",
      "    1       2  \n",
      "   / \\     / \\ \n",
      "  3   4   5   6\n",
      " /             \n",
      "7              \n",
      "               \n",
      "0\n",
      "2\n",
      "6\n",
      "7\n"
     ]
    }
   ],
   "source": [
    "def printRightMost(root, level, max_level):\n",
    "    if root is None:\n",
    "        return\n",
    "    \n",
    "    if (max_level[0] < level):\n",
    "        print (root.value)\n",
    "        max_level[0] = level\n",
    "        \n",
    "    printRightMost(root.right, level+1, max_level)\n",
    "    printRightMost(root.left, level+1, max_level)\n",
    "    \n",
    "pprint(n)\n",
    "printRightMost(n, 1, [0])"
   ]
  },
  {
   "cell_type": "code",
   "execution_count": null,
   "metadata": {
    "collapsed": true
   },
   "outputs": [],
   "source": []
  }
 ],
 "metadata": {
  "kernelspec": {
   "display_name": "Python 3",
   "language": "python",
   "name": "python3"
  },
  "language_info": {
   "codemirror_mode": {
    "name": "ipython",
    "version": 3
   },
   "file_extension": ".py",
   "mimetype": "text/x-python",
   "name": "python",
   "nbconvert_exporter": "python",
   "pygments_lexer": "ipython3",
   "version": "3.5.2"
  }
 },
 "nbformat": 4,
 "nbformat_minor": 1
}
